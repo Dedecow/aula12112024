{
 "cells": [
  {
   "cell_type": "code",
   "execution_count": 15,
   "metadata": {},
   "outputs": [],
   "source": [
    "import pandas as pd\n",
    "import numpy as np\n",
    "from prettytable import PrettyTable"
   ]
  },
  {
   "cell_type": "code",
   "execution_count": 14,
   "metadata": {},
   "outputs": [
    {
     "data": {
      "text/html": [
       "<div>\n",
       "<style scoped>\n",
       "    .dataframe tbody tr th:only-of-type {\n",
       "        vertical-align: middle;\n",
       "    }\n",
       "\n",
       "    .dataframe tbody tr th {\n",
       "        vertical-align: top;\n",
       "    }\n",
       "\n",
       "    .dataframe thead th {\n",
       "        text-align: right;\n",
       "    }\n",
       "</style>\n",
       "<table border=\"1\" class=\"dataframe\">\n",
       "  <thead>\n",
       "    <tr style=\"text-align: right;\">\n",
       "      <th></th>\n",
       "      <th>Pés² Quartos Banheiros Vizinhança AnoConstrução Preço($)</th>\n",
       "    </tr>\n",
       "  </thead>\n",
       "  <tbody>\n",
       "    <tr>\n",
       "      <th>0</th>\n",
       "      <td>2126 4 1 Rural 1969 215355,28361820139</td>\n",
       "    </tr>\n",
       "    <tr>\n",
       "      <th>1</th>\n",
       "      <td>2459 3 2 Rural 1980 195014,22162584803</td>\n",
       "    </tr>\n",
       "    <tr>\n",
       "      <th>2</th>\n",
       "      <td>1860 2 1 Subúrbio 1970 306891,0120763329</td>\n",
       "    </tr>\n",
       "    <tr>\n",
       "      <th>3</th>\n",
       "      <td>2294 2 1 Urbano 1996 206786,78715332696</td>\n",
       "    </tr>\n",
       "    <tr>\n",
       "      <th>4</th>\n",
       "      <td>2130 5 2 Subúrbio 2001 272436,239065061</td>\n",
       "    </tr>\n",
       "  </tbody>\n",
       "</table>\n",
       "</div>"
      ],
      "text/plain": [
       "  Pés² Quartos Banheiros Vizinhança AnoConstrução Preço($)\n",
       "0             2126 4 1 Rural 1969 215355,28361820139      \n",
       "1             2459 3 2 Rural 1980 195014,22162584803      \n",
       "2           1860 2 1 Subúrbio 1970 306891,0120763329      \n",
       "3            2294 2 1 Urbano 1996 206786,78715332696      \n",
       "4            2130 5 2 Subúrbio 2001 272436,239065061      "
      ]
     },
     "execution_count": 14,
     "metadata": {},
     "output_type": "execute_result"
    }
   ],
   "source": [
    "casas = pd.read_csv(\n",
    "    'Dataset - Preço de Casas.csv',  \n",
    "    encoding='latin1',              \n",
    "    decimal=',',                    \n",
    "    sep=';'                          \n",
    ")\n",
    "\n",
    "casas.head(5)\n"
   ]
  },
  {
   "cell_type": "code",
   "execution_count": 16,
   "metadata": {},
   "outputs": [
    {
     "data": {
      "text/html": [
       "<style type=\"text/css\">\n",
       "</style>\n",
       "<table id=\"T_9ddb5\">\n",
       "  <thead>\n",
       "    <tr>\n",
       "      <th class=\"blank level0\" >&nbsp;</th>\n",
       "      <th id=\"T_9ddb5_level0_col0\" class=\"col_heading level0 col0\" >Pés² Quartos Banheiros Vizinhança AnoConstrução Preço($)</th>\n",
       "    </tr>\n",
       "  </thead>\n",
       "  <tbody>\n",
       "    <tr>\n",
       "      <th id=\"T_9ddb5_level0_row0\" class=\"row_heading level0 row0\" >0</th>\n",
       "      <td id=\"T_9ddb5_row0_col0\" class=\"data row0 col0\" >2126 4 1 Rural 1969 215355,28361820139</td>\n",
       "    </tr>\n",
       "    <tr>\n",
       "      <th id=\"T_9ddb5_level0_row1\" class=\"row_heading level0 row1\" >1</th>\n",
       "      <td id=\"T_9ddb5_row1_col0\" class=\"data row1 col0\" >2459 3 2 Rural 1980 195014,22162584803</td>\n",
       "    </tr>\n",
       "    <tr>\n",
       "      <th id=\"T_9ddb5_level0_row2\" class=\"row_heading level0 row2\" >2</th>\n",
       "      <td id=\"T_9ddb5_row2_col0\" class=\"data row2 col0\" >1860 2 1 Subúrbio 1970 306891,0120763329</td>\n",
       "    </tr>\n",
       "    <tr>\n",
       "      <th id=\"T_9ddb5_level0_row3\" class=\"row_heading level0 row3\" >3</th>\n",
       "      <td id=\"T_9ddb5_row3_col0\" class=\"data row3 col0\" >2294 2 1 Urbano 1996 206786,78715332696</td>\n",
       "    </tr>\n",
       "    <tr>\n",
       "      <th id=\"T_9ddb5_level0_row4\" class=\"row_heading level0 row4\" >4</th>\n",
       "      <td id=\"T_9ddb5_row4_col0\" class=\"data row4 col0\" >2130 5 2 Subúrbio 2001 272436,239065061</td>\n",
       "    </tr>\n",
       "  </tbody>\n",
       "</table>\n"
      ],
      "text/plain": [
       "<pandas.io.formats.style.Styler at 0x757b14ada0c0>"
      ]
     },
     "execution_count": 16,
     "metadata": {},
     "output_type": "execute_result"
    }
   ],
   "source": [
    "casas.head(5).style.format(precision=2).background_gradient(cmap='coolwarm')\n",
    "\n"
   ]
  },
  {
   "cell_type": "code",
   "execution_count": 39,
   "metadata": {},
   "outputs": [
    {
     "data": {
      "text/plain": [
       "Index(['Pés² Quartos Banheiros Vizinhança AnoConstrução Preço($)'], dtype='object')"
      ]
     },
     "execution_count": 39,
     "metadata": {},
     "output_type": "execute_result"
    }
   ],
   "source": [
    "casas = pd.read_csv('Dataset - Preço de Casas.csv', sep=';', decimal=',', encoding='ISO-8859-1')\n",
    "casas.columns"
   ]
  },
  {
   "cell_type": "code",
   "execution_count": 40,
   "metadata": {},
   "outputs": [
    {
     "data": {
      "text/html": [
       "<div>\n",
       "<style scoped>\n",
       "    .dataframe tbody tr th:only-of-type {\n",
       "        vertical-align: middle;\n",
       "    }\n",
       "\n",
       "    .dataframe tbody tr th {\n",
       "        vertical-align: top;\n",
       "    }\n",
       "\n",
       "    .dataframe thead th {\n",
       "        text-align: right;\n",
       "    }\n",
       "</style>\n",
       "<table border=\"1\" class=\"dataframe\">\n",
       "  <thead>\n",
       "    <tr style=\"text-align: right;\">\n",
       "      <th></th>\n",
       "      <th>Pés² Quartos Banheiros Vizinhança AnoConstrução Preço($)</th>\n",
       "    </tr>\n",
       "  </thead>\n",
       "  <tbody>\n",
       "    <tr>\n",
       "      <th>0</th>\n",
       "      <td>2126 4 1 Rural 1969 215355,28361820139</td>\n",
       "    </tr>\n",
       "    <tr>\n",
       "      <th>1</th>\n",
       "      <td>2459 3 2 Rural 1980 195014,22162584803</td>\n",
       "    </tr>\n",
       "    <tr>\n",
       "      <th>2</th>\n",
       "      <td>1860 2 1 Subúrbio 1970 306891,0120763329</td>\n",
       "    </tr>\n",
       "    <tr>\n",
       "      <th>3</th>\n",
       "      <td>2294 2 1 Urbano 1996 206786,78715332696</td>\n",
       "    </tr>\n",
       "    <tr>\n",
       "      <th>4</th>\n",
       "      <td>2130 5 2 Subúrbio 2001 272436,239065061</td>\n",
       "    </tr>\n",
       "  </tbody>\n",
       "</table>\n",
       "</div>"
      ],
      "text/plain": [
       "  Pés² Quartos Banheiros Vizinhança AnoConstrução Preço($)\n",
       "0             2126 4 1 Rural 1969 215355,28361820139      \n",
       "1             2459 3 2 Rural 1980 195014,22162584803      \n",
       "2           1860 2 1 Subúrbio 1970 306891,0120763329      \n",
       "3            2294 2 1 Urbano 1996 206786,78715332696      \n",
       "4            2130 5 2 Subúrbio 2001 272436,239065061      "
      ]
     },
     "execution_count": 40,
     "metadata": {},
     "output_type": "execute_result"
    }
   ],
   "source": [
    "casas.head(5)"
   ]
  },
  {
   "cell_type": "code",
   "execution_count": 46,
   "metadata": {},
   "outputs": [],
   "source": [
    "with open('Dataset - Preço de Casas.csv', 'r', encoding='ISO-8859-1') as file:\n",
    "    casas = pd.read_csv(file, sep=',', decimal=',')\n"
   ]
  },
  {
   "cell_type": "code",
   "execution_count": 47,
   "metadata": {},
   "outputs": [
    {
     "data": {
      "text/html": [
       "<div>\n",
       "<style scoped>\n",
       "    .dataframe tbody tr th:only-of-type {\n",
       "        vertical-align: middle;\n",
       "    }\n",
       "\n",
       "    .dataframe tbody tr th {\n",
       "        vertical-align: top;\n",
       "    }\n",
       "\n",
       "    .dataframe thead th {\n",
       "        text-align: right;\n",
       "    }\n",
       "</style>\n",
       "<table border=\"1\" class=\"dataframe\">\n",
       "  <thead>\n",
       "    <tr style=\"text-align: right;\">\n",
       "      <th></th>\n",
       "      <th>Pés² Quartos Banheiros Vizinhança AnoConstrução Preço($)</th>\n",
       "    </tr>\n",
       "  </thead>\n",
       "  <tbody>\n",
       "    <tr>\n",
       "      <th>2126 4 1 Rural 1969 215355</th>\n",
       "      <td>28361820139</td>\n",
       "    </tr>\n",
       "    <tr>\n",
       "      <th>2459 3 2 Rural 1980 195014</th>\n",
       "      <td>22162584803</td>\n",
       "    </tr>\n",
       "    <tr>\n",
       "      <th>1860 2 1 Subúrbio 1970 306891</th>\n",
       "      <td>120763329</td>\n",
       "    </tr>\n",
       "  </tbody>\n",
       "</table>\n",
       "</div>"
      ],
      "text/plain": [
       "                               Pés² Quartos Banheiros Vizinhança AnoConstrução Preço($)\n",
       "2126 4 1 Rural 1969 215355                                           28361820139       \n",
       "2459 3 2 Rural 1980 195014                                           22162584803       \n",
       "1860 2 1 Subúrbio 1970 306891                                          120763329       "
      ]
     },
     "execution_count": 47,
     "metadata": {},
     "output_type": "execute_result"
    }
   ],
   "source": [
    "table = PrettyTable()\n",
    "table.field_names = [\"Pés²\", \"Quartos\", \"Banheiros\", \"Vizinhança\", \"AnoConstrução\", \"Preço($)\"]\n",
    "casas.head(3)"
   ]
  },
  {
   "cell_type": "code",
   "execution_count": 42,
   "metadata": {},
   "outputs": [
    {
     "data": {
      "text/plain": [
       "Index(['Pés² Quartos Banheiros Vizinhança AnoConstrução Preço($)'], dtype='object')"
      ]
     },
     "execution_count": 42,
     "metadata": {},
     "output_type": "execute_result"
    }
   ],
   "source": [
    "casas.columns"
   ]
  },
  {
   "cell_type": "code",
   "execution_count": 44,
   "metadata": {},
   "outputs": [
    {
     "data": {
      "text/plain": [
       "<bound method DataFrame.info of       Pés² Quartos Banheiros Vizinhança AnoConstrução Preço($)\n",
       "0                 2126 4 1 Rural 1969 215355,28361820139      \n",
       "1                 2459 3 2 Rural 1980 195014,22162584803      \n",
       "2               1860 2 1 Subúrbio 1970 306891,0120763329      \n",
       "3                2294 2 1 Urbano 1996 206786,78715332696      \n",
       "4                2130 5 2 Subúrbio 2001 272436,239065061      \n",
       "...                                                  ...      \n",
       "49995             1282 5 3 Rural 1975 100080,86589451409      \n",
       "49996          2854 2 2 Subúrbio 1988 374507,65672699345      \n",
       "49997          2979 5 3 Subúrbio 1962 384110,55559035065      \n",
       "49998             2596 5 2 Rural 1984 380512,68595683837      \n",
       "49999             1572 5 3 Rural 2011 221618,58321806978      \n",
       "\n",
       "[50000 rows x 1 columns]>"
      ]
     },
     "execution_count": 44,
     "metadata": {},
     "output_type": "execute_result"
    }
   ],
   "source": [
    "casas.info"
   ]
  }
 ],
 "metadata": {
  "kernelspec": {
   "display_name": "base",
   "language": "python",
   "name": "python3"
  },
  "language_info": {
   "codemirror_mode": {
    "name": "ipython",
    "version": 3
   },
   "file_extension": ".py",
   "mimetype": "text/x-python",
   "name": "python",
   "nbconvert_exporter": "python",
   "pygments_lexer": "ipython3",
   "version": "3.12.7"
  }
 },
 "nbformat": 4,
 "nbformat_minor": 2
}
